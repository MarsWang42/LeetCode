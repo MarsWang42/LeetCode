{
 "cells": [
  {
   "cell_type": "code",
   "execution_count": 1,
   "metadata": {
    "collapsed": false
   },
   "outputs": [],
   "source": [
    "import collections\n",
    "\n",
    "class Graph:\n",
    "    def __init__(self):\n",
    "        self.nodes = set()\n",
    "        self.edges = collections.defaultdict(list)\n",
    "        self.distance = {}\n",
    "\n",
    "    def add_node(self, value):\n",
    "        self.nodes.add(value)\n",
    "\n",
    "    def add_edge(self, from_node, to_node, distance):\n",
    "        self.edges[from_node].append(to_node)\n",
    "        self.distance[(from_node, to_node)] = distance\n",
    "\n",
    "def dijsktra(graph, initial):\n",
    "    visited = {initial: 0}\n",
    "    path = {}\n",
    "\n",
    "    nodes = set(graph.nodes)\n",
    "\n",
    "    while nodes:\n",
    "        min_node = None\n",
    "        for node in nodes:\n",
    "            if node in visited:\n",
    "                if min_node is None:\n",
    "                    min_node = node\n",
    "                elif visited[node] < visited[min_node]:\n",
    "                    min_node = node\n",
    "\n",
    "        if min_node is None:\n",
    "            break\n",
    "\n",
    "        nodes.remove(min_node)\n",
    "\n",
    "        for next in graph.edges[min_node]:\n",
    "            weight = graph.distance[(min_node, next)] + visited[min_node]\n",
    "            if next not in visited or weight < visited[next]:\n",
    "                visited[next] = weight\n",
    "                path[next] = min_node\n",
    "\n",
    "    return visited, path\n",
    "\n",
    "def bfs(graph, initial):\n",
    "    visited, queue = set(), [initial]\n",
    "    while queue:\n",
    "        vertex = queue.pop(0)\n",
    "        visited.add(vertex)\n",
    "        queue.extend(set(graph.edges[vertex])-visited)\n",
    "    return visited\n",
    "\n",
    "def bfs_with_path(graph, start, goal):\n",
    "    visited, queue = set(), [[start]]\n",
    "    while queue:\n",
    "        path = queue.pop(0)\n",
    "        vertex = path[-1]\n",
    "        if vertex is goal:\n",
    "            return path\n",
    "        for next in set(graph.edges[vertex])-visited:\n",
    "            new_path = list(path)\n",
    "            new_path.append(next)\n",
    "            queue.append(new_path)\n",
    "\n",
    "def dfs(graph, initial, visited = set()):\n",
    "    visited.add(initial)\n",
    "    for next in set(graph.edges[initial])-visited:\n",
    "        dfs(graph, next, visited)\n",
    "    return visited"
   ]
  },
  {
   "cell_type": "code",
   "execution_count": 2,
   "metadata": {
    "collapsed": false
   },
   "outputs": [
    {
     "name": "stdout",
     "output_type": "stream",
     "text": [
      "({'h': 9, 'c': 15, 'f': 22, 'a': 0, 'e': 18, 'b': 10, 'd': 13}, {'h': 'a', 'c': 'a', 'f': 'c', 'e': 'b', 'b': 'a', 'd': 'b'})\n"
     ]
    }
   ],
   "source": [
    "g = Graph()\n",
    "g.add_node('a')\n",
    "g.add_node('b')\n",
    "g.add_node('c')\n",
    "\n",
    "g.add_edge('a', 'b', 10)\n",
    "g.add_edge('b', 'c', 10)\n",
    "g.add_edge('a', 'c', 15)\n",
    "g.add_edge('c', 'f', 7)\n",
    "g.add_edge('b', 'e', 8)\n",
    "g.add_edge('g', 'd', 12)\n",
    "g.add_edge('b', 'd', 3)\n",
    "g.add_edge('a', 'h', 9)\n",
    "\n",
    "print(dijsktra(g, 'a'))\n",
    "\n",
    "# returns ({'a': 0}, {})"
   ]
  },
  {
   "cell_type": "code",
   "execution_count": 3,
   "metadata": {
    "collapsed": false
   },
   "outputs": [
    {
     "name": "stdout",
     "output_type": "stream",
     "text": [
      "{'f', 'c', 'e', 'h', 'a', 'b', 'd'}\n"
     ]
    }
   ],
   "source": [
    "print(bfs(g, 'a'))"
   ]
  },
  {
   "cell_type": "code",
   "execution_count": 4,
   "metadata": {
    "collapsed": false
   },
   "outputs": [
    {
     "name": "stdout",
     "output_type": "stream",
     "text": [
      "{'f', 'c', 'e', 'h', 'a', 'b', 'd'}\n"
     ]
    }
   ],
   "source": [
    "print(dfs(g, 'a'))"
   ]
  },
  {
   "cell_type": "code",
   "execution_count": 5,
   "metadata": {
    "collapsed": false
   },
   "outputs": [
    {
     "name": "stdout",
     "output_type": "stream",
     "text": [
      "['a', 'c', 'f']\n"
     ]
    }
   ],
   "source": [
    "print(bfs_with_path(g, 'a', 'f'))"
   ]
  },
  {
   "cell_type": "code",
   "execution_count": null,
   "metadata": {
    "collapsed": true
   },
   "outputs": [],
   "source": []
  }
 ],
 "metadata": {
  "anaconda-cloud": {},
  "kernelspec": {
   "display_name": "Python [conda root]",
   "language": "python",
   "name": "conda-root-py"
  },
  "language_info": {
   "codemirror_mode": {
    "name": "ipython",
    "version": 3
   },
   "file_extension": ".py",
   "mimetype": "text/x-python",
   "name": "python",
   "nbconvert_exporter": "python",
   "pygments_lexer": "ipython3",
   "version": "3.5.2"
  }
 },
 "nbformat": 4,
 "nbformat_minor": 1
}
